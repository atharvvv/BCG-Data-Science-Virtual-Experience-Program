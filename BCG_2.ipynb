{
  "cells": [
    {
      "cell_type": "markdown",
      "metadata": {
        "id": "Yfo7InDcKXqk"
      },
      "source": [
        "#BCG Task-2"
      ]
    },
    {
      "cell_type": "markdown",
      "metadata": {
        "id": "Qld8Oa-GKgPx"
      },
      "source": [
        "## Step 1"
      ]
    },
    {
      "cell_type": "code",
      "execution_count": null,
      "metadata": {
        "id": "CxRXSYqLKUQJ"
      },
      "outputs": [],
      "source": [
        "#Load the datasets\n",
        "import pandas as pd\n",
        "\n",
        "client_data = pd.read_csv(\"client_data.csv\")\n",
        "price_data = pd.read_csv(\"price_data.csv\")\n"
      ]
    },
    {
      "cell_type": "code",
      "execution_count": null,
      "metadata": {
        "colab": {
          "base_uri": "https://localhost:8080/"
        },
        "id": "6pwY0q-TL8x9",
        "outputId": "dd616c2c-5bc2-4a02-f427-f882fa5e2eda"
      },
      "outputs": [
        {
          "name": "stdout",
          "output_type": "stream",
          "text": [
            "<class 'pandas.core.frame.DataFrame'>\n",
            "RangeIndex: 14606 entries, 0 to 14605\n",
            "Data columns (total 26 columns):\n",
            " #   Column                          Non-Null Count  Dtype  \n",
            "---  ------                          --------------  -----  \n",
            " 0   id                              14606 non-null  object \n",
            " 1   channel_sales                   14606 non-null  object \n",
            " 2   cons_12m                        14606 non-null  int64  \n",
            " 3   cons_gas_12m                    14606 non-null  int64  \n",
            " 4   cons_last_month                 14606 non-null  int64  \n",
            " 5   date_activ                      14606 non-null  object \n",
            " 6   date_end                        14606 non-null  object \n",
            " 7   date_modif_prod                 14606 non-null  object \n",
            " 8   date_renewal                    14606 non-null  object \n",
            " 9   forecast_cons_12m               14606 non-null  float64\n",
            " 10  forecast_cons_year              14606 non-null  int64  \n",
            " 11  forecast_discount_energy        14606 non-null  float64\n",
            " 12  forecast_meter_rent_12m         14606 non-null  float64\n",
            " 13  forecast_price_energy_off_peak  14606 non-null  float64\n",
            " 14  forecast_price_energy_peak      14606 non-null  float64\n",
            " 15  forecast_price_pow_off_peak     14606 non-null  float64\n",
            " 16  has_gas                         14606 non-null  object \n",
            " 17  imp_cons                        14606 non-null  float64\n",
            " 18  margin_gross_pow_ele            14606 non-null  float64\n",
            " 19  margin_net_pow_ele              14606 non-null  float64\n",
            " 20  nb_prod_act                     14606 non-null  int64  \n",
            " 21  net_margin                      14606 non-null  float64\n",
            " 22  num_years_antig                 14606 non-null  int64  \n",
            " 23  origin_up                       14606 non-null  object \n",
            " 24  pow_max                         14606 non-null  float64\n",
            " 25  churn                           14606 non-null  int64  \n",
            "dtypes: float64(11), int64(7), object(8)\n",
            "memory usage: 2.9+ MB\n",
            "None\n",
            "<class 'pandas.core.frame.DataFrame'>\n",
            "RangeIndex: 176750 entries, 0 to 176749\n",
            "Data columns (total 8 columns):\n",
            " #   Column              Non-Null Count   Dtype  \n",
            "---  ------              --------------   -----  \n",
            " 0   id                  176750 non-null  object \n",
            " 1   price_date          176750 non-null  object \n",
            " 2   price_off_peak_var  176750 non-null  float64\n",
            " 3   price_peak_var      176750 non-null  float64\n",
            " 4   price_mid_peak_var  176750 non-null  float64\n",
            " 5   price_off_peak_fix  176750 non-null  float64\n",
            " 6   price_peak_fix      176750 non-null  float64\n",
            " 7   price_mid_peak_fix  176750 non-null  float64\n",
            "dtypes: float64(6), object(2)\n",
            "memory usage: 10.8+ MB\n",
            "None\n"
          ]
        }
      ],
      "source": [
        "#Check basic information\n",
        "print(client_data.info())\n",
        "print(price_data.info())"
      ]
    },
    {
      "cell_type": "code",
      "execution_count": null,
      "metadata": {
        "colab": {
          "base_uri": "https://localhost:8080/"
        },
        "id": "_hbSK-xlM6_S",
        "outputId": "05cb99a0-65f7-425d-ffad-568f39e31ea7"
      },
      "outputs": [
        {
          "name": "stdout",
          "output_type": "stream",
          "text": [
            "                                 id                     channel_sales  \\\n",
            "0  24011ae4ebbe3035111d65fa7c15bc57  foosdfpfkusacimwkcsosbicdxkicaua   \n",
            "1  d29c2c54acc38ff3c0614d0a653813dd                           MISSING   \n",
            "2  764c75f661154dac3a6c254cd082ea7d  foosdfpfkusacimwkcsosbicdxkicaua   \n",
            "3  bba03439a292a1e166f80264c16191cb  lmkebamcaaclubfxadlmueccxoimlema   \n",
            "4  149d57cf92fc41cf94415803a877cb4b                           MISSING   \n",
            "\n",
            "   cons_12m  cons_gas_12m  cons_last_month  date_activ    date_end  \\\n",
            "0         0         54946                0  2013-06-15  2016-06-15   \n",
            "1      4660             0                0  2009-08-21  2016-08-30   \n",
            "2       544             0                0  2010-04-16  2016-04-16   \n",
            "3      1584             0                0  2010-03-30  2016-03-30   \n",
            "4      4425             0              526  2010-01-13  2016-03-07   \n",
            "\n",
            "  date_modif_prod date_renewal  forecast_cons_12m  ...  has_gas  imp_cons  \\\n",
            "0      2015-11-01   2015-06-23               0.00  ...        t      0.00   \n",
            "1      2009-08-21   2015-08-31             189.95  ...        f      0.00   \n",
            "2      2010-04-16   2015-04-17              47.96  ...        f      0.00   \n",
            "3      2010-03-30   2015-03-31             240.04  ...        f      0.00   \n",
            "4      2010-01-13   2015-03-09             445.75  ...        f     52.32   \n",
            "\n",
            "   margin_gross_pow_ele  margin_net_pow_ele  nb_prod_act  net_margin  \\\n",
            "0                 25.44               25.44            2      678.99   \n",
            "1                 16.38               16.38            1       18.89   \n",
            "2                 28.60               28.60            1        6.60   \n",
            "3                 30.22               30.22            1       25.46   \n",
            "4                 44.91               44.91            1       47.98   \n",
            "\n",
            "  num_years_antig                         origin_up  pow_max  churn  \n",
            "0               3  lxidpiddsbxsbosboudacockeimpuepw   43.648      1  \n",
            "1               6  kamkkxfxxuwbdslkwifmmcsiusiuosws   13.800      0  \n",
            "2               6  kamkkxfxxuwbdslkwifmmcsiusiuosws   13.856      0  \n",
            "3               6  kamkkxfxxuwbdslkwifmmcsiusiuosws   13.200      0  \n",
            "4               6  kamkkxfxxuwbdslkwifmmcsiusiuosws   19.800      0  \n",
            "\n",
            "[5 rows x 26 columns]\n",
            "                                 id  price_date  price_off_peak_var  \\\n",
            "0  038af19179925da21a25619c5a24b745  2015-01-01            0.151367   \n",
            "1  038af19179925da21a25619c5a24b745  2015-02-01            0.151367   \n",
            "2  038af19179925da21a25619c5a24b745  2015-03-01            0.151367   \n",
            "3  038af19179925da21a25619c5a24b745  2015-04-01            0.149626   \n",
            "4  038af19179925da21a25619c5a24b745  2015-05-01            0.149626   \n",
            "\n",
            "   price_peak_var  price_mid_peak_var  price_off_peak_fix  price_peak_fix  \\\n",
            "0             0.0                 0.0           44.266931             0.0   \n",
            "1             0.0                 0.0           44.266931             0.0   \n",
            "2             0.0                 0.0           44.266931             0.0   \n",
            "3             0.0                 0.0           44.266931             0.0   \n",
            "4             0.0                 0.0           44.266931             0.0   \n",
            "\n",
            "   price_mid_peak_fix  \n",
            "0                 0.0  \n",
            "1                 0.0  \n",
            "2                 0.0  \n",
            "3                 0.0  \n",
            "4                 0.0  \n"
          ]
        }
      ],
      "source": [
        "#Display the first few rows\n",
        "print(client_data.head())\n",
        "print(price_data.head())"
      ]
    },
    {
      "cell_type": "code",
      "execution_count": null,
      "metadata": {
        "colab": {
          "background_save": true,
          "base_uri": "https://localhost:8080/"
        },
        "id": "ACieIt3lNIVf",
        "outputId": "36867178-bddf-4781-e523-05ae80919914"
      },
      "outputs": [
        {
          "name": "stdout",
          "output_type": "stream",
          "text": [
            "id                                0\n",
            "channel_sales                     0\n",
            "cons_12m                          0\n",
            "cons_gas_12m                      0\n",
            "cons_last_month                   0\n",
            "date_activ                        0\n",
            "date_end                          0\n",
            "date_modif_prod                   0\n",
            "date_renewal                      0\n",
            "forecast_cons_12m                 0\n",
            "forecast_cons_year                0\n",
            "forecast_discount_energy          0\n",
            "forecast_meter_rent_12m           0\n",
            "forecast_price_energy_off_peak    0\n",
            "forecast_price_energy_peak        0\n",
            "forecast_price_pow_off_peak       0\n",
            "has_gas                           0\n",
            "imp_cons                          0\n",
            "margin_gross_pow_ele              0\n",
            "margin_net_pow_ele                0\n",
            "nb_prod_act                       0\n",
            "net_margin                        0\n",
            "num_years_antig                   0\n",
            "origin_up                         0\n",
            "pow_max                           0\n",
            "churn                             0\n",
            "dtype: int64\n",
            "id                    0\n",
            "price_date            0\n",
            "price_off_peak_var    0\n",
            "price_peak_var        0\n",
            "price_mid_peak_var    0\n",
            "price_off_peak_fix    0\n",
            "price_peak_fix        0\n",
            "price_mid_peak_fix    0\n",
            "dtype: int64\n"
          ]
        }
      ],
      "source": [
        "#Data Cleaning\n",
        "print(client_data.isnull().sum())\n",
        "print(price_data.isnull().sum())"
      ]
    }
  ],
  "metadata": {
    "colab": {
      "provenance": []
    },
    "kernelspec": {
      "display_name": "Python 3",
      "name": "python3"
    },
    "language_info": {
      "name": "python"
    }
  },
  "nbformat": 4,
  "nbformat_minor": 0
}