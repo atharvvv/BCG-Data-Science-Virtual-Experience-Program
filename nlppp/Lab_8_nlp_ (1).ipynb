{
  "nbformat": 4,
  "nbformat_minor": 0,
  "metadata": {
    "colab": {
      "provenance": []
    },
    "kernelspec": {
      "name": "python3",
      "display_name": "Python 3"
    },
    "language_info": {
      "name": "python"
    }
  },
  "cells": [
    {
      "cell_type": "markdown",
      "source": [
        "#Name : Atharva Vetal\n",
        "#Reg no : 22122109\n",
        "#Aim :\n",
        "Data Collection:\n",
        "- Access a recent social media platform or news aggregator.\n",
        "- Collect at least 10 recent posts or headlines related to technology trends.\n",
        "\n",
        "Implementation:\n",
        "- Implement stemming on the tokenized words.\n",
        "- Implement lemmatization on the tokenized words.\n",
        "- Print the original text, stemmed words, and lemmatized words for each post.\n",
        "\n",
        "Discussion: (Need to explain as per the given text)\n",
        "- Compare the results and observe how each technique affects the representation of words.\n",
        "- Discuss how these differences might impact sentiment analysis and key term extraction."
      ],
      "metadata": {
        "id": "h0h0BFv08RVn"
      }
    },
    {
      "cell_type": "code",
      "execution_count": null,
      "metadata": {
        "id": "L7r4NeTdsS7t"
      },
      "outputs": [],
      "source": [
        "import nltk\n",
        "from nltk.stem import PorterStemmer\n",
        "from nltk.stem import WordNetLemmatizer\n",
        "from nltk.tokenize import word_tokenize"
      ]
    },
    {
      "cell_type": "code",
      "source": [
        "nltk.download('punkt')\n",
        "nltk.download('wordnet')"
      ],
      "metadata": {
        "colab": {
          "base_uri": "https://localhost:8080/"
        },
        "id": "QPB54IdLsmuH",
        "outputId": "f5925852-bb82-4323-d674-65d04556567c"
      },
      "execution_count": null,
      "outputs": [
        {
          "output_type": "stream",
          "name": "stderr",
          "text": [
            "[nltk_data] Downloading package punkt to /root/nltk_data...\n",
            "[nltk_data]   Package punkt is already up-to-date!\n",
            "[nltk_data] Downloading package wordnet to /root/nltk_data...\n",
            "[nltk_data]   Package wordnet is already up-to-date!\n"
          ]
        },
        {
          "output_type": "execute_result",
          "data": {
            "text/plain": [
              "True"
            ]
          },
          "metadata": {},
          "execution_count": 15
        },
        {
          "output_type": "stream",
          "name": "stderr",
          "text": [
            "[nltk_data] Downloading package punkt to /root/nltk_data...\n",
            "[nltk_data]   Package punkt is already up-to-date!\n",
            "[nltk_data] Downloading package wordnet to /root/nltk_data...\n",
            "[nltk_data]   Package wordnet is already up-to-date!\n"
          ]
        },
        {
          "output_type": "execute_result",
          "data": {
            "text/plain": [
              "True"
            ]
          },
          "metadata": {},
          "execution_count": 19
        }
      ]
    },
    {
      "cell_type": "code",
      "source": [
        "posts = [\n",
        "\" Adobe unveils AI-backed Photoshop Elements 2024 with dedicated dark mode\",\n",
        "\"Apple plans for big generative AI push for its devices & services: Report\",\n",
        "\"AI can help Wikipedia fix inaccurate and incomplete citations: Study\",\n",
        "\"Microsoft aims to lead AI transformation: 9 big takeaways from CEO Satya Nadella’s annual letter\",\n",
        "\"How to quickly summarise long PDFs for free with Claude AI\",\n",
        "\"ChatGPT now supports Dall-E 3: Top 10 techniques for creating stellar images\",\n",
        "\"Real or fake? How to verify geolocation of social media videos\",\n",
        "\"OpenAI shelves Arrakis AI: All you need to know about model named after desert in ‘Dune’\",\n",
        "\"Smartphone-killer wearable Ai Pin from Humane is here: Everything we know so far\",\n",
        "\"Make 3D models in a jiffy with Masterpiece X – Generate: Here’s how to use the AI text-to-3D tool\"\n",
        "]"
      ],
      "metadata": {
        "id": "QQQr_3v_ssKq"
      },
      "execution_count": null,
      "outputs": []
    },
    {
      "cell_type": "code",
      "source": [
        "# Initialize stemmer and lemmatizer\n",
        "stemmer = PorterStemmer()\n",
        "lemmatizer = WordNetLemmatizer()"
      ],
      "metadata": {
        "id": "GvahOPsduEcD"
      },
      "execution_count": null,
      "outputs": []
    },
    {
      "cell_type": "code",
      "source": [
        "# Tokenize, stem, and lemmatize the posts, and then print the results\n",
        "for post in posts:\n",
        "    tokens = word_tokenize(post)\n",
        "\n",
        "    stemmed_words = [stemmer.stem(word) for word in tokens]\n",
        "    lemmatized_words = [lemmatizer.lemmatize(word) for word in tokens]\n",
        "\n",
        "    print(\"Original Text:\", post)\n",
        "    print(\"Stemmed Words:\", ' '.join(stemmed_words))\n",
        "    print(\"Lemmatized Words:\", ' '.join(lemmatized_words))\n",
        "    print()\n"
      ],
      "metadata": {
        "colab": {
          "base_uri": "https://localhost:8080/"
        },
        "id": "tjrHpNCguL6z",
        "outputId": "b13dd696-b02b-4ad9-e53a-b9d3b348d3f0"
      },
      "execution_count": null,
      "outputs": [
        {
          "output_type": "stream",
          "name": "stdout",
          "text": [
            "Original Text:  Adobe unveils AI-backed Photoshop Elements 2024 with dedicated dark mode\n",
            "Stemmed Words: adob unveil ai-back photoshop element 2024 with dedic dark mode\n",
            "Lemmatized Words: Adobe unveils AI-backed Photoshop Elements 2024 with dedicated dark mode\n",
            "\n",
            "Original Text: Apple plans for big generative AI push for its devices & services: Report\n",
            "Stemmed Words: appl plan for big gener ai push for it devic & servic : report\n",
            "Lemmatized Words: Apple plan for big generative AI push for it device & service : Report\n",
            "\n",
            "Original Text: AI can help Wikipedia fix inaccurate and incomplete citations: Study\n",
            "Stemmed Words: ai can help wikipedia fix inaccur and incomplet citat : studi\n",
            "Lemmatized Words: AI can help Wikipedia fix inaccurate and incomplete citation : Study\n",
            "\n",
            "Original Text: Microsoft aims to lead AI transformation: 9 big takeaways from CEO Satya Nadella’s annual letter\n",
            "Stemmed Words: microsoft aim to lead ai transform : 9 big takeaway from ceo satya nadella ’ s annual letter\n",
            "Lemmatized Words: Microsoft aim to lead AI transformation : 9 big takeaway from CEO Satya Nadella ’ s annual letter\n",
            "\n",
            "Original Text: How to quickly summarise long PDFs for free with Claude AI\n",
            "Stemmed Words: how to quickli summaris long pdf for free with claud ai\n",
            "Lemmatized Words: How to quickly summarise long PDFs for free with Claude AI\n",
            "\n",
            "Original Text: ChatGPT now supports Dall-E 3: Top 10 techniques for creating stellar images\n",
            "Stemmed Words: chatgpt now support dall- 3 : top 10 techniqu for creat stellar imag\n",
            "Lemmatized Words: ChatGPT now support Dall-E 3 : Top 10 technique for creating stellar image\n",
            "\n",
            "Original Text: Real or fake? How to verify geolocation of social media videos\n",
            "Stemmed Words: real or fake ? how to verifi geoloc of social media video\n",
            "Lemmatized Words: Real or fake ? How to verify geolocation of social medium video\n",
            "\n",
            "Original Text: OpenAI shelves Arrakis AI: All you need to know about model named after desert in ‘Dune’\n",
            "Stemmed Words: openai shelv arraki ai : all you need to know about model name after desert in ‘ dune ’\n",
            "Lemmatized Words: OpenAI shelf Arrakis AI : All you need to know about model named after desert in ‘ Dune ’\n",
            "\n",
            "Original Text: Smartphone-killer wearable Ai Pin from Humane is here: Everything we know so far\n",
            "Stemmed Words: smartphone-kil wearabl ai pin from human is here : everyth we know so far\n",
            "Lemmatized Words: Smartphone-killer wearable Ai Pin from Humane is here : Everything we know so far\n",
            "\n",
            "Original Text: Make 3D models in a jiffy with Masterpiece X – Generate: Here’s how to use the AI text-to-3D tool\n",
            "Stemmed Words: make 3d model in a jiffi with masterpiec x – gener : here ’ s how to use the ai text-to-3d tool\n",
            "Lemmatized Words: Make 3D model in a jiffy with Masterpiece X – Generate : Here ’ s how to use the AI text-to-3D tool\n",
            "\n"
          ]
        }
      ]
    },
    {
      "cell_type": "markdown",
      "source": [
        "## 1. Stemmed Words vs. Lemmatized Words:"
      ],
      "metadata": {
        "id": "1ZQok00dx6uK"
      }
    },
    {
      "cell_type": "markdown",
      "source": [
        "\n",
        "\n",
        "1.   In stemming, words are reduced to their root or base form by removing common suffixes. This often results in more aggressive word reduction, which can lead to the loss of meaningful information. For example, \"unveils\" becomes \"unveil,\" \"Elements\" becomes \"element,\" and \"dedicated\" becomes \"dedic.\"\n",
        "2. In lemmatization, words are reduced to their base form (lemma) while considering the word's context and meaning. This generally provides a more accurate representation of the word. For example, \"unveils\" remains \"unveils,\" \"Elements\" remains \"Elements,\" and \"dedicated\" remains \"dedicated.\"\n",
        "\n",
        "\n",
        "\n",
        "\n",
        "\n"
      ],
      "metadata": {
        "id": "y4DOt95Yx-UZ"
      }
    },
    {
      "cell_type": "markdown",
      "source": [
        "# 2. Impact on Sentiment Analysis:"
      ],
      "metadata": {
        "id": "gNzJepr3yJEm"
      }
    },
    {
      "cell_type": "markdown",
      "source": [
        "\n",
        "\n",
        "1.  Sentiment analysis relies on the understanding of words and their context to determine the sentiment of a text. Stemming can sometimes remove prefixes or suffixes that carry sentiment-related information, potentially making it harder for sentiment analysis models to correctly classify the text. Lemmatization, being more context-aware, is generally better for sentiment analysis.\n",
        "\n",
        "\n"
      ],
      "metadata": {
        "id": "Ul1AAwsIyNjr"
      }
    },
    {
      "cell_type": "markdown",
      "source": [
        "#3. Impact on Key Term Extraction:\n"
      ],
      "metadata": {
        "id": "QEzgGpGQyST8"
      }
    },
    {
      "cell_type": "markdown",
      "source": [
        "\n",
        "\n",
        "1.   Key term extraction depends on identifying and selecting important words or phrases from a text. Stemming might cause a loss of specificity and potentially group related terms as a single term, making it harder to identify key terms accurately. Lemmatization, by retaining the original form of words, provides a more accurate representation of key terms and their relationships in the text.\n",
        "\n",
        "\n"
      ],
      "metadata": {
        "id": "glytvcbZyeMU"
      }
    }
  ]
}